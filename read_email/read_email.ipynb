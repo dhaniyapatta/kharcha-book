{
 "cells": [
  {
   "cell_type": "code",
   "execution_count": null,
   "metadata": {},
   "outputs": [],
   "source": []
  },
  {
   "cell_type": "code",
   "execution_count": 47,
   "metadata": {},
   "outputs": [],
   "source": [
    "import imaplib\n",
    "import email\n",
    "import yaml\n",
    "import pandas as pd\n",
    "from email.header import decode_header\n",
    "from bs4 import BeautifulSoup\n",
    "import re\n",
    "\n"
   ]
  },
  {
   "cell_type": "code",
   "execution_count": 48,
   "metadata": {},
   "outputs": [],
   "source": [
    "with open('/Users/ankitjha/Downloads/credentials.yaml') as f:\n",
    " content = f.read()\n",
    "my_credentials = yaml.load(content, Loader = yaml.FullLoader)\n",
    "user, password = my_credentials['email_id'], my_credentials['password']\n"
   ]
  },
  {
   "cell_type": "code",
   "execution_count": 51,
   "metadata": {},
   "outputs": [
    {
     "name": "stdout",
     "output_type": "stream",
     "text": [
      "('OK', [b'ajha211@gmail.com authenticated (Success)'])\n"
     ]
    }
   ],
   "source": [
    "imap_url = \"imap.gmail.com\"\n",
    "my_mail = imaplib.IMAP4_SSL(imap_url)\n",
    "print(my_mail.login(user, password))"
   ]
  },
  {
   "cell_type": "code",
   "execution_count": null,
   "metadata": {},
   "outputs": [],
   "source": []
  },
  {
   "cell_type": "code",
   "execution_count": 53,
   "metadata": {},
   "outputs": [
    {
     "data": {
      "text/plain": [
       "('OK', [b'7'])"
      ]
     },
     "execution_count": 53,
     "metadata": {},
     "output_type": "execute_result"
    }
   ],
   "source": [
    "my_mail.select('hdfc_alerts')\n"
   ]
  },
  {
   "cell_type": "code",
   "execution_count": 55,
   "metadata": {},
   "outputs": [],
   "source": [
    "email_from=\"alerts@hdfcbank.net\"\n",
    "_, messages = my_mail.search(None, f'FROM \"{email_from}\"')"
   ]
  },
  {
   "cell_type": "code",
   "execution_count": 56,
   "metadata": {},
   "outputs": [],
   "source": [
    " # Convert the result list to a list of email IDs\n",
    "email_ids = messages[0].split()\n",
    "\n",
    "email_data = []"
   ]
  },
  {
   "cell_type": "code",
   "execution_count": 59,
   "metadata": {},
   "outputs": [],
   "source": [
    "for i in email_ids[-100:]:\n",
    "        # Fetch the email by ID\n",
    "        res, msg = my_mail.fetch(i, \"(RFC822)\")\n",
    "\n",
    "        for response_part in msg:\n",
    "            if isinstance(response_part, tuple):\n",
    "                # Parse the bytes email into a message object\n",
    "                msg = email.message_from_bytes(response_part[1])\n",
    "                \n",
    "                # Decode email subject\n",
    "                subject, encoding = decode_header(msg[\"Subject\"])[0]\n",
    "                if isinstance(subject, bytes):\n",
    "                    # If it's a bytes type, decode to str\n",
    "                    subject = subject.decode(encoding if encoding else \"utf-8\")\n",
    "                \n",
    "                # Decode email sender\n",
    "                from_ = msg.get(\"From\")\n",
    "                \n",
    "                # Extract the body of the email\n",
    "                if msg.is_multipart():\n",
    "                    # Iterate over email parts\n",
    "                    for part in msg.walk():\n",
    "                        # Extract content type of email\n",
    "                        content_type = part.get_content_type()\n",
    "                        content_disposition = str(part.get(\"Content-Disposition\"))\n",
    "                        \n",
    "                        try:\n",
    "                            # Get the email body\n",
    "                            body = part.get_payload(decode=True).decode()\n",
    "                        except:\n",
    "                            pass\n",
    "                else:\n",
    "                    # Extract content type of email\n",
    "                    content_type = msg.get_content_type()\n",
    "                    \n",
    "                    # Get the email body\n",
    "                    body = msg.get_payload(decode=True).decode()\n",
    "\n",
    "                email_data.append({\n",
    "                    \"subject\": subject,\n",
    "                    \"from\": from_,\n",
    "                    \"body\": body,\n",
    "                    \"txn type\": \"\",\n",
    "                    \"txn method\": \"\",\n",
    "                    \"credit_debit\":\"\",\n",
    "                })"
   ]
  },
  {
   "cell_type": "code",
   "execution_count": 60,
   "metadata": {},
   "outputs": [
    {
     "name": "stdout",
     "output_type": "stream",
     "text": [
      "Dear Customer,  Rs.10.00 has been debited from account **5090 to VPA pahal.duggal@oksbi on 25-05-24. Your UPI transaction reference number is 414647378839\n",
      "Dear Customer,Rs.184.00 has been debited from your HDFC Bank RuPay Credit Card XX7376 to starbucks.payu@icici on 25-05-24. Your UPI transaction reference number is 414654290754\n",
      "Dear Customer,  Rs.320.00 has been debited from account **5090 to VPA pahal.duggal@oksbi on 25-05-24. Your UPI transaction reference number is 414662482789\n",
      "Dear Customer,Rs.370.50 has been debited from your HDFC Bank RuPay Credit Card XX7376 to gedditconvenience.rzp@hdfcbank on 26-05-24. Your UPI transaction reference number is 414781192957\n",
      "Dear Customer,Rs.387.85 has been debited from your HDFC Bank RuPay Credit Card XX7376 to paytm-51955531@paytm on 26-05-24. Your UPI transaction reference number is 414788948942\n"
     ]
    }
   ],
   "source": [
    "for i,j in df.iterrows():\n",
    "    print(df['body'][i])"
   ]
  },
  {
   "cell_type": "code",
   "execution_count": 61,
   "metadata": {},
   "outputs": [],
   "source": [
    "for email in email_data:\n",
    "    soup = BeautifulSoup(email[\"body\"], \"html.parser\")\n",
    "    text = soup.get_text()\n",
    "    pattern = r'Dear.*?reference number is \\d+'\n",
    "    # Use re.findall to find all matches\n",
    "    matches = re.findall(pattern, text, re.DOTALL)\n",
    "    email[\"body\"]=matches[0]\n",
    "\n",
    "    if \"UPI\" in email[\"subject\"]:\n",
    "        email[\"txn type\"]=\"UPI\"\n",
    "        if \"credit card\" in email[\"body\"]:\n",
    "            email[\"txn method\"]=\"CreditCard UPI\"\n",
    "    else:\n",
    "        email[\"txn type\"]=\"Other\"\n",
    "\n",
    "\n",
    "    if \"debited from\" in email[\"body\"]:\n",
    "        email[\"credit_debit\"]=\"debit\"\n",
    "\n",
    "    if \"credit\" in email[\"body\"]:\n",
    "        email[\"credit_debit\"]=\"credit\"\n",
    "    \n",
    "\n",
    "\n",
    "       \n",
    "    \n",
    "    \n",
    "   \n",
    "    "
   ]
  },
  {
   "cell_type": "code",
   "execution_count": 62,
   "metadata": {},
   "outputs": [
    {
     "data": {
      "text/html": [
       "<div>\n",
       "<style scoped>\n",
       "    .dataframe tbody tr th:only-of-type {\n",
       "        vertical-align: middle;\n",
       "    }\n",
       "\n",
       "    .dataframe tbody tr th {\n",
       "        vertical-align: top;\n",
       "    }\n",
       "\n",
       "    .dataframe thead th {\n",
       "        text-align: right;\n",
       "    }\n",
       "</style>\n",
       "<table border=\"1\" class=\"dataframe\">\n",
       "  <thead>\n",
       "    <tr style=\"text-align: right;\">\n",
       "      <th></th>\n",
       "      <th>subject</th>\n",
       "      <th>from</th>\n",
       "      <th>body</th>\n",
       "      <th>txn type</th>\n",
       "      <th>txn method</th>\n",
       "      <th>credit_debit</th>\n",
       "    </tr>\n",
       "  </thead>\n",
       "  <tbody>\n",
       "    <tr>\n",
       "      <th>0</th>\n",
       "      <td>❗  You have done a UPI txn. Check details!</td>\n",
       "      <td>HDFC Bank InstaAlerts &lt;alerts@hdfcbank.net&gt;</td>\n",
       "      <td>Dear Customer,  Rs.10.00 has been debited from...</td>\n",
       "      <td>UPI</td>\n",
       "      <td></td>\n",
       "      <td>debit</td>\n",
       "    </tr>\n",
       "    <tr>\n",
       "      <th>1</th>\n",
       "      <td>❗  You have done a UPI txn. Check details!</td>\n",
       "      <td>HDFC Bank InstaAlerts &lt;alerts@hdfcbank.net&gt;</td>\n",
       "      <td>Dear Customer,Rs.184.00 has been debited from ...</td>\n",
       "      <td>UPI</td>\n",
       "      <td></td>\n",
       "      <td>debit</td>\n",
       "    </tr>\n",
       "    <tr>\n",
       "      <th>2</th>\n",
       "      <td>❗  You have done a UPI txn. Check details!</td>\n",
       "      <td>HDFC Bank InstaAlerts &lt;alerts@hdfcbank.net&gt;</td>\n",
       "      <td>Dear Customer,  Rs.320.00 has been debited fro...</td>\n",
       "      <td>UPI</td>\n",
       "      <td></td>\n",
       "      <td>debit</td>\n",
       "    </tr>\n",
       "    <tr>\n",
       "      <th>3</th>\n",
       "      <td>❗  You have done a UPI txn. Check details!</td>\n",
       "      <td>HDFC Bank InstaAlerts &lt;alerts@hdfcbank.net&gt;</td>\n",
       "      <td>Dear Customer,Rs.370.50 has been debited from ...</td>\n",
       "      <td>UPI</td>\n",
       "      <td></td>\n",
       "      <td>debit</td>\n",
       "    </tr>\n",
       "    <tr>\n",
       "      <th>4</th>\n",
       "      <td>❗  You have done a UPI txn. Check details!</td>\n",
       "      <td>HDFC Bank InstaAlerts &lt;alerts@hdfcbank.net&gt;</td>\n",
       "      <td>Dear Customer,Rs.387.85 has been debited from ...</td>\n",
       "      <td>UPI</td>\n",
       "      <td></td>\n",
       "      <td>debit</td>\n",
       "    </tr>\n",
       "    <tr>\n",
       "      <th>5</th>\n",
       "      <td>❗  You have done a UPI txn. Check details!</td>\n",
       "      <td>HDFC Bank InstaAlerts &lt;alerts@hdfcbank.net&gt;</td>\n",
       "      <td>Dear Customer,Rs.30.00 has been debited from y...</td>\n",
       "      <td>UPI</td>\n",
       "      <td></td>\n",
       "      <td>debit</td>\n",
       "    </tr>\n",
       "    <tr>\n",
       "      <th>6</th>\n",
       "      <td>❗  You have done a UPI txn. Check details!</td>\n",
       "      <td>HDFC Bank InstaAlerts &lt;alerts@hdfcbank.net&gt;</td>\n",
       "      <td>Dear Customer,Rs.2254.00 has been debited from...</td>\n",
       "      <td>UPI</td>\n",
       "      <td></td>\n",
       "      <td>debit</td>\n",
       "    </tr>\n",
       "  </tbody>\n",
       "</table>\n",
       "</div>"
      ],
      "text/plain": [
       "                                      subject  \\\n",
       "0  ❗  You have done a UPI txn. Check details!   \n",
       "1  ❗  You have done a UPI txn. Check details!   \n",
       "2  ❗  You have done a UPI txn. Check details!   \n",
       "3  ❗  You have done a UPI txn. Check details!   \n",
       "4  ❗  You have done a UPI txn. Check details!   \n",
       "5  ❗  You have done a UPI txn. Check details!   \n",
       "6  ❗  You have done a UPI txn. Check details!   \n",
       "\n",
       "                                          from  \\\n",
       "0  HDFC Bank InstaAlerts <alerts@hdfcbank.net>   \n",
       "1  HDFC Bank InstaAlerts <alerts@hdfcbank.net>   \n",
       "2  HDFC Bank InstaAlerts <alerts@hdfcbank.net>   \n",
       "3  HDFC Bank InstaAlerts <alerts@hdfcbank.net>   \n",
       "4  HDFC Bank InstaAlerts <alerts@hdfcbank.net>   \n",
       "5  HDFC Bank InstaAlerts <alerts@hdfcbank.net>   \n",
       "6  HDFC Bank InstaAlerts <alerts@hdfcbank.net>   \n",
       "\n",
       "                                                body txn type txn method  \\\n",
       "0  Dear Customer,  Rs.10.00 has been debited from...      UPI              \n",
       "1  Dear Customer,Rs.184.00 has been debited from ...      UPI              \n",
       "2  Dear Customer,  Rs.320.00 has been debited fro...      UPI              \n",
       "3  Dear Customer,Rs.370.50 has been debited from ...      UPI              \n",
       "4  Dear Customer,Rs.387.85 has been debited from ...      UPI              \n",
       "5  Dear Customer,Rs.30.00 has been debited from y...      UPI              \n",
       "6  Dear Customer,Rs.2254.00 has been debited from...      UPI              \n",
       "\n",
       "  credit_debit  \n",
       "0        debit  \n",
       "1        debit  \n",
       "2        debit  \n",
       "3        debit  \n",
       "4        debit  \n",
       "5        debit  \n",
       "6        debit  "
      ]
     },
     "execution_count": 62,
     "metadata": {},
     "output_type": "execute_result"
    }
   ],
   "source": [
    "df = pd.DataFrame(email_data)\n",
    "df\n",
    "   "
   ]
  },
  {
   "cell_type": "markdown",
   "metadata": {},
   "source": [
    "### Email Parser\n"
   ]
  },
  {
   "cell_type": "code",
   "execution_count": 27,
   "metadata": {},
   "outputs": [
    {
     "data": {
      "text/plain": [
       "'Dear Customer,  Rs.320.00 has been debited from account **5090 to VPA pahal.duggal@oksbi on 25-05-24. Your UPI transaction reference number is 414662482789'"
      ]
     },
     "execution_count": 27,
     "metadata": {},
     "output_type": "execute_result"
    }
   ],
   "source": []
  },
  {
   "cell_type": "code",
   "execution_count": null,
   "metadata": {},
   "outputs": [],
   "source": []
  }
 ],
 "metadata": {
  "kernelspec": {
   "display_name": "environment_name",
   "language": "python",
   "name": "python3"
  },
  "language_info": {
   "codemirror_mode": {
    "name": "ipython",
    "version": 3
   },
   "file_extension": ".py",
   "mimetype": "text/x-python",
   "name": "python",
   "nbconvert_exporter": "python",
   "pygments_lexer": "ipython3",
   "version": "3.9.18"
  }
 },
 "nbformat": 4,
 "nbformat_minor": 2
}
